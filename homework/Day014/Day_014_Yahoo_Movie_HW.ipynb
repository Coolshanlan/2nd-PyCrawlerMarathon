{
 "cells": [
  {
   "cell_type": "markdown",
   "metadata": {},
   "source": [
    "# YAHOO電影爬蟲練習\n",
    "## 練習爬取電影放映資訊。必須逐步獲取電影的代號、放映地區、放映日期後，再送出查詢給伺服器。"
   ]
  },
  {
   "cell_type": "code",
   "execution_count": 2,
   "metadata": {},
   "outputs": [],
   "source": [
    "import requests\n",
    "import re\n",
    "from bs4 import BeautifulSoup"
   ]
  },
  {
   "cell_type": "markdown",
   "metadata": {},
   "source": [
    "### 先搜尋全部的電影代號(ID)資訊"
   ]
  },
  {
   "cell_type": "code",
   "execution_count": 3,
   "metadata": {},
   "outputs": [
    {
     "name": "stdout",
     "output_type": "stream",
     "text": "[{'movie_id': '10545', 'moive_name': '導演先生的完美假期'}, {'movie_id': '10513', 'moive_name': '大地蜜語'}, {'movie_id': '10506', 'moive_name': '狂飆一夢'}, {'movie_id': '10491', 'moive_name': '親愛的莎瑪'}, {'movie_id': '10478', 'moive_name': '大畫特務'}, {'movie_id': '10472', 'moive_name': '戰慄糖果屋'}, {'movie_id': '10465', 'moive_name': '失戀殺人：三角禁戀'}, {'movie_id': '10440', 'moive_name': '明明會說話'}, {'movie_id': '10396', 'moive_name': '艾瑪'}, {'movie_id': '10349', 'moive_name': '罪樂園'}, {'movie_id': '10527', 'moive_name': '寄生上流：黑白版'}, {'movie_id': '10490', 'moive_name': '千日千夜'}, {'movie_id': '10464', 'moive_name': '咒怨2 電影版'}, {'movie_id': '10458', 'moive_name': '鳴鳥不飛：烏雲密布'}, {'movie_id': '10438', 'moive_name': '哥布林殺手 劇場版'}, {'movie_id': '10437', 'moive_name': '女鬼橋'}, {'movie_id': '10421', 'moive_name': '怨咒'}, {'movie_id': '10401', 'moive_name': '娘娘腔日記'}, {'movie_id': '10388', 'moive_name': '汪星人的奇幻漂流'}, {'movie_id': '10383', 'moive_name': '極地守護犬'}, {'movie_id': '10371', 'moive_name': '叔．叔'}, {'movie_id': '10359', 'moive_name': '隱形人'}, {'movie_id': '10498', 'moive_name': '失路人'}, {'movie_id': '10484', 'moive_name': '電影音效傳奇：好萊塢之聲'}, {'movie_id': '10479', 'moive_name': '悲慘世界'}, {'movie_id': '10475', 'moive_name': '吹哨奇案'}, {'movie_id': '10474', 'moive_name': '閃閃小超人電影版'}, {'movie_id': '10468', 'moive_name': '少年阿罕默德'}, {'movie_id': '10463', 'moive_name': '咒怨 電影版'}, {'movie_id': '10457', 'moive_name': '陰櫥'}, {'movie_id': '10447', 'moive_name': '絕命大平台'}, {'movie_id': '10368', 'moive_name': '李察朱威爾事件'}, {'movie_id': '9246', 'moive_name': '音速小子'}, {'movie_id': '10501', 'moive_name': '你好．愛．再見'}, {'movie_id': '10485', 'moive_name': '逃出夢幻島'}, {'movie_id': '10476', 'moive_name': '雨天．紐約'}, {'movie_id': '10456', 'moive_name': '失控少年兵團'}, {'movie_id': '10445', 'moive_name': '超＂人＂氣動物園'}, {'movie_id': '10436', 'moive_name': '就愛斷捨離'}, {'movie_id': '10394', 'moive_name': '愛情人形'}, {'movie_id': '10419', 'moive_name': '蜜蜂與遠雷'}, {'movie_id': '10405', 'moive_name': '電影版 輝夜姬想讓人告白～天才們的戀愛頭腦戰～'}, {'movie_id': '10399', 'moive_name': '古曼童'}, {'movie_id': '10268', 'moive_name': '猛禽小隊：小丑女大解放'}, {'movie_id': '10417', 'moive_name': '紅鞋公主與七矮人'}, {'movie_id': '10189', 'moive_name': '1917'}, {'movie_id': '10407', 'moive_name': '你的情歌'}, {'movie_id': '10316', 'moive_name': '杜立德'}, {'movie_id': '10202', 'moive_name': '她們'}, {'movie_id': '9008', 'moive_name': '變身特務'}, {'movie_id': '10451', 'moive_name': '然後我們跳了舞'}, {'movie_id': '10429', 'moive_name': '巧虎電影：英雄遊樂園'}, {'movie_id': '10404', 'moive_name': '青春催落去'}, {'movie_id': '10242', 'moive_name': '絕地戰警FOR LIFE'}, {'movie_id': '10409', 'moive_name': '星星知我心'}, {'movie_id': '10384', 'moive_name': '逃出天堂島'}, {'movie_id': '10355', 'moive_name': '魯邦三世 The First'}, {'movie_id': '10382', 'moive_name': '別告訴她'}, {'movie_id': '10362', 'moive_name': '真愛裁會贏'}, {'movie_id': '10333', 'moive_name': '潛艦追緝'}, {'movie_id': '10124', 'moive_name': '霹靂嬌娃'}, {'movie_id': '10166', 'moive_name': 'CATS貓'}, {'movie_id': '10225', 'moive_name': 'STAR WARS : 天行者的崛起'}, {'movie_id': '10392', 'moive_name': '復仇母親'}, {'movie_id': '10323', 'moive_name': '8級警戒'}, {'movie_id': '10291', 'moive_name': '黑色聖誕節'}, {'movie_id': '10256', 'moive_name': '去年聖誕節'}, {'movie_id': '10134', 'moive_name': '野蠻遊戲：全面晉級'}, {'movie_id': '10282', 'moive_name': '寂寞診療室'}, {'movie_id': '10097', 'moive_name': '賽道狂人'}, {'movie_id': '9597', 'moive_name': '冰雪奇緣2'}, {'movie_id': '10281', 'moive_name': '萬萬沒想到'}, {'movie_id': '10164', 'moive_name': '救火奶爸'}, {'movie_id': '10130', 'moive_name': '決戰中途島'}, {'movie_id': '10067', 'moive_name': '魔鬼終結者：黑暗宿命'}, {'movie_id': '10214', 'moive_name': '絕鯊47：猛鯊出籠'}, {'movie_id': '10203', 'moive_name': '貓咪知道但是貓咪不說'}, {'movie_id': '10091', 'moive_name': '天氣之子'}, {'movie_id': '10020', 'moive_name': '寄生上流'}, {'movie_id': '4887', 'moive_name': '一首搖滾上月球'}, {'movie_id': '3026', 'moive_name': '錢不夠用2'}]\n"
    }
   ],
   "source": [
    "# 查看目前上映那些電影，並擷取出其ID資訊\n",
    "url = 'https://movies.yahoo.com.tw/'\n",
    "resp = requests.get(url)\n",
    "resp.encoding = 'utf-8'\n",
    "movie_id_list = []\n",
    "resp_b = BeautifulSoup(resp.text)\n",
    "reg =re.compile(\"\\d*\")\n",
    "movie_id_list = [{'movie_id':m[\"value\"],'moive_name':m['data-name']} for  m in resp_b.find(\"select\",id=\"sbox_mid\",attrs={'name':'movie_id'}).findChildren(\"option\",attrs={'data-name':re.compile(\".*\")}) if  re.search(reg,m['value'])]\n",
    "print(movie_id_list)"
   ]
  },
  {
   "cell_type": "markdown",
   "metadata": {},
   "source": [
    "### 指定你有興趣的電影其ID，然後查詢其放映地區資訊。"
   ]
  },
  {
   "cell_type": "code",
   "execution_count": 4,
   "metadata": {},
   "outputs": [],
   "source": [
    "# 參考前一個步驟中擷取到的ID資訊，並指定ID\n",
    "movie_id = \"10349\""
   ]
  },
  {
   "cell_type": "code",
   "execution_count": 5,
   "metadata": {},
   "outputs": [
    {
     "name": "stdout",
     "output_type": "stream",
     "text": "[{'area_name': '台北市', 'area_id': 28}, {'area_name': '新北市', 'area_id': 8}, {'area_name': '桃園', 'area_id': 16}, {'area_name': '新竹', 'area_id': 20}, {'area_name': '台中', 'area_id': 2}, {'area_name': '台南', 'area_id': 10}, {'area_name': '高雄', 'area_id': 17}, {'area_name': '宜蘭', 'area_id': 11}]\n"
    }
   ],
   "source": [
    "url = 'https://movies.yahoo.com.tw/api/v1/areas_by_movie_theater'\n",
    "parameter = {'movie_id':movie_id}\n",
    "header = {\n",
    "'mv-authorization': '21835b082e15b91a69b3851eec7b31b82ce82afb'\n",
    "}\n",
    "resp_areas = requests.get(url,params=parameter,headers=header)\n",
    "print([{'area_name':d['title'],'area_id':d['area_id']} for d in resp_areas.json()])"
   ]
  },
  {
   "cell_type": "markdown",
   "metadata": {},
   "source": [
    "### 指定你想要觀看的放映地區，查詢有上映電影的場次日期"
   ]
  },
  {
   "cell_type": "code",
   "execution_count": 6,
   "metadata": {},
   "outputs": [],
   "source": [
    "# 指定放映地區\n",
    "area_id=\"28\""
   ]
  },
  {
   "cell_type": "code",
   "execution_count": 22,
   "metadata": {},
   "outputs": [
    {
     "name": "stdout",
     "output_type": "stream",
     "text": "[{'month': '三月', 'day': '11', 'week': '今天'}, {'month': '三月', 'day': '12', 'week': '明天'}, {'month': '三月', 'day': '13', 'week': '禮拜五'}, {'month': '三月', 'day': '14', 'week': '禮拜六'}, {'month': '三月', 'day': '15', 'week': '禮拜天'}]\n"
    }
   ],
   "source": [
    "# 向網站發送請求\n",
    "params = {'movie_id':movie_id,'area_id':area_id}\n",
    "url = f\"https://movies.yahoo.com.tw/movietime_result.html\"\n",
    "resp = requests.get(url,params=params)\n",
    "resp_b = BeautifulSoup(resp.text)\n",
    "print([{'month':d.find('p',class_='month').text,'day':d.find('h3',class_='day').text,'week':d.find('p',class_='week').text} for d in resp_b.find('ul',class_='date_timetable_picker').find_all('li')])\n",
    "# 列印播放日期\n"
   ]
  },
  {
   "cell_type": "markdown",
   "metadata": {},
   "source": [
    "### 最後指定觀看的日期，查詢並列印出放映的電影院、放映類型(數位、3D、IMAX 3D...)、放映時間等資訊。"
   ]
  },
  {
   "cell_type": "code",
   "execution_count": 30,
   "metadata": {},
   "outputs": [],
   "source": [
    "# 選定要觀看的日期\n",
    "date='2020-03-11'"
   ]
  },
  {
   "cell_type": "code",
   "execution_count": 65,
   "metadata": {},
   "outputs": [
    {
     "name": "stdout",
     "output_type": "stream",
     "text": "[{'address': '國賓影城(台北長春廣場)', 'phone': '02-25155755', 'taps': ['數位'], 'times': ['15:00', '19:25', '21:50']}, {'address': '喜滿客絕色影城', 'phone': '02-23811339', 'taps': ['數位'], 'times': ['19:00', '23:10']}, {'address': '台北信義威秀影城', 'phone': '02-87805566', 'taps': ['數位'], 'times': ['20:35', '23:00']}, {'address': '百老匯數位影城', 'phone': '02-86636128', 'taps': ['數位'], 'times': ['09:50', '12:10', '14:30', '16:50', '19:10', '21:30', '23:50']}, {'address': '今日秀泰影城', 'phone': '02-23751669', 'taps': ['數位'], 'times': ['11:00', '15:40', '20:20', '22:50']}, {'address': '誠品電影院', 'phone': '02-66365888', 'taps': ['數位'], 'times': ['14:00', '20:55']}, {'address': '喜樂時代影城南港店', 'phone': '02-27888185', 'taps': ['數位'], 'times': ['20:10']}]\n"
    }
   ],
   "source": [
    "# 向網站發送請求，獲取上映的電影院及時間資訊\n",
    "params = {'movie_id':movie_id,'area_id':area_id,'date':date}\n",
    "url = f\"https://movies.yahoo.com.tw/ajax/pc/get_schedule_by_movie\"\n",
    "resp = requests.get(url,params=params)\n",
    "resp_b = BeautifulSoup(resp.json()['view'])\n",
    "\n",
    "print(resp.json()['view'])  # 若有需要，列印出json原始碼\n",
    "\n"
   ]
  },
  {
   "cell_type": "code",
   "execution_count": 10,
   "metadata": {},
   "outputs": [
    {
     "data": {
      "text/plain": "'\\n\\n  試著從上一步驟回傳的電影院資料中，擷取電影院名稱、影片放映類型以及時間表\\n  \\n  Your code here.\\n\\n'"
     },
     "execution_count": 10,
     "metadata": {},
     "output_type": "execute_result"
    }
   ],
   "source": [
    "'''\n",
    "\n",
    "  試著從上一步驟回傳的電影院資料中，擷取電影院名稱、影片放映類型以及時間表\n",
    "  \n",
    "  Your code here.\n",
    "\n",
    "'''\n"
   ]
  },
  {
   "cell_type": "code",
   "execution_count": null,
   "metadata": {},
   "outputs": [],
   "source": []
  }
 ],
 "metadata": {
  "kernelspec": {
   "display_name": "Python 3",
   "language": "python",
   "name": "python3"
  },
  "language_info": {
   "codemirror_mode": {
    "name": "ipython",
    "version": 3
   },
   "file_extension": ".py",
   "mimetype": "text/x-python",
   "name": "python",
   "nbconvert_exporter": "python",
   "pygments_lexer": "ipython3",
   "version": "3.8.1-final"
  }
 },
 "nbformat": 4,
 "nbformat_minor": 2
}