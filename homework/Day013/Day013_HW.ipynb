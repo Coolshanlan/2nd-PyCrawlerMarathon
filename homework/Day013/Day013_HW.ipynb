{
 "cells": [
  {
   "cell_type": "markdown",
   "metadata": {},
   "source": [
    "# PTT 網路爬蟲實作練習\n",
    "\n",
    "\n",
    "* 能夠利用 Request + BeatifulSour 撰寫爬蟲，並存放到合適的資料結構\n"
   ]
  },
  {
   "cell_type": "markdown",
   "metadata": {},
   "source": [
    "## 作業目標\n",
    "\n",
    "根據範例 ，完成以下問題：\n",
    "\n",
    "* ① 印出最新文章的「作者」「標題」「時間」\n",
    "* ② 印出第一頁所有文章的「作者」「標題」「時間」\n"
   ]
  },
  {
   "cell_type": "markdown",
   "metadata": {},
   "source": [
    "### ① 印出最新文章的「作者」「標題」「時間」"
   ]
  },
  {
   "cell_type": "code",
   "execution_count": 45,
   "metadata": {},
   "outputs": [
    {
     "name": "stdout",
     "output_type": "stream",
     "text": "[{'author': 'playstore', 'title': 'Re: [情報] 湖人助教：LBJ在昨日賽前主動表示他要防'}, {'author': '-', 'title': '(本文已被刪除) [KDSKY]'}, {'author': 'namie810303', 'title': '[公告]水桶 '}, {'author': 'phoenix286', 'title': '[情報] Norman Powell 左踝扭傷'}, {'author': 'hide0325', 'title': '[新聞] 快艇補強內線 10天短約簽諾亞'}, {'author': 'sammyegg', 'title': 'Re: [討論] Curry是不是現今有成就也不被認可的球員?'}, {'author': 'thnlkj0665', 'title': '[花邊] 柯瑞復出也難擋 勇士再被取消兩場全美直播'}, {'author': '-', 'title': '(已被namie810303刪除) <leolu2013>1-1'}, {'author': 'iammatrix', 'title': 'Re: [情報] Trae Young 史上最快投進350顆三分球'}, {'author': 'jk182325', 'title': '[新聞] 聯盟防疫措施反應兩極\\u3000球星：有人咳嗽'}, {'author': 'KnightZX', 'title': '[專欄] 數據不會說謊！盤點NBA防守最爛先發五虎'}, {'author': 'CIA', 'title': '[新聞] 大讚勇士菜鳥 柯爾：跟柯瑞、K湯一樣好'}, {'author': 'fukawa947', 'title': '[花邊] 離開巫師才知道沃爾的好\\u3000退役名將悔不'}, {'author': 'a78998042a', 'title': '[情報] NBA Standings (Mar. 10, 2020)'}, {'author': 'sky419012', 'title': '[新聞] 三分球產能高質量 羅賓森連創多項紀錄'}, {'author': 'thnlkj0665', 'title': '[情報] Zion Williamson 送給隊友Jordan球鞋'}, {'author': 'Vedan', 'title': '[公告] 板規v6.8'}, {'author': 'qazwsx879345', 'title': '[公告] 版主上任相關事項 '}, {'author': 'Acetoxy', 'title': '[情報] SEASON Schedule 賽程 March 19–20'}, {'author': 'Vedan', 'title': 'Fw: [公告] 即日起開放 NTU 信箱註冊帳號'}, {'author': 'Vedan', 'title': '[公告] 第一次被退文，可在三天後刪除退文'}]\n"
    }
   ],
   "source": [
    "import requests \n",
    "from bs4 import BeautifulSoup\n",
    "\n",
    "rp = requests.get(\"https://www.ptt.cc/bbs/NBA/index.html\")\n",
    "rp.encoding = \"utf8\"\n",
    "rpb = BeautifulSoup(rp.text)"
   ]
  },
  {
   "cell_type": "markdown",
   "metadata": {},
   "source": [
    "### ② 印出第一頁所有文章的「作者」「標題」「時間」"
   ]
  },
  {
   "cell_type": "code",
   "execution_count": 46,
   "metadata": {},
   "outputs": [
    {
     "name": "stdout",
     "output_type": "stream",
     "text": "[{'author': 'playstore', 'title': 'Re: [情報] 湖人助教：LBJ在昨日賽前主動表示他要防'}, {'author': '-', 'title': '(本文已被刪除) [KDSKY]'}, {'author': 'namie810303', 'title': '[公告]水桶 '}, {'author': 'phoenix286', 'title': '[情報] Norman Powell 左踝扭傷'}, {'author': 'hide0325', 'title': '[新聞] 快艇補強內線 10天短約簽諾亞'}, {'author': 'sammyegg', 'title': 'Re: [討論] Curry是不是現今有成就也不被認可的球員?'}, {'author': 'thnlkj0665', 'title': '[花邊] 柯瑞復出也難擋 勇士再被取消兩場全美直播'}, {'author': '-', 'title': '(已被namie810303刪除) <leolu2013>1-1'}, {'author': 'iammatrix', 'title': 'Re: [情報] Trae Young 史上最快投進350顆三分球'}, {'author': 'jk182325', 'title': '[新聞] 聯盟防疫措施反應兩極\\u3000球星：有人咳嗽'}, {'author': 'KnightZX', 'title': '[專欄] 數據不會說謊！盤點NBA防守最爛先發五虎'}, {'author': 'CIA', 'title': '[新聞] 大讚勇士菜鳥 柯爾：跟柯瑞、K湯一樣好'}, {'author': 'fukawa947', 'title': '[花邊] 離開巫師才知道沃爾的好\\u3000退役名將悔不'}, {'author': 'a78998042a', 'title': '[情報] NBA Standings (Mar. 10, 2020)'}, {'author': 'sky419012', 'title': '[新聞] 三分球產能高質量 羅賓森連創多項紀錄'}, {'author': 'thnlkj0665', 'title': '[情報] Zion Williamson 送給隊友Jordan球鞋'}, {'author': 'Vedan', 'title': '[公告] 板規v6.8'}, {'author': 'qazwsx879345', 'title': '[公告] 版主上任相關事項 '}, {'author': 'Acetoxy', 'title': '[情報] SEASON Schedule 賽程 March 19–20'}, {'author': 'Vedan', 'title': 'Fw: [公告] 即日起開放 NTU 信箱註冊帳號'}, {'author': 'Vedan', 'title': '[公告] 第一次被退文，可在三天後刪除退文'}]\n"
    }
   ],
   "source": [
    "print([{'author':d.find(class_=\"meta\").find(class_='author').text,'title':d.find(class_=\"title\").text.replace(\"\\n\",\"\").replace(\"\\t\",\"\")} for d in rpb.find_all(class_=\"r-ent\")])"
   ]
  },
  {
   "cell_type": "markdown",
   "metadata": {},
   "source": [
    "### ③ 試著爬爬看其他版的文章"
   ]
  },
  {
   "cell_type": "code",
   "execution_count": 48,
   "metadata": {},
   "outputs": [
    {
     "name": "stdout",
     "output_type": "stream",
     "text": "[{'author': 'haehae311444', 'title': '[新聞] 知道重要了！ 日本內閣成立口罩小組調度'}, {'author': 'iamshana', 'title': '[新聞] 武漢肺炎全義大利封城 教宗盼神父勇敢幫'}, {'author': 'erty', 'title': '[海外] 北歐3/10案例及新聞整理'}, {'author': 'joanzkow', 'title': '[Live] 第二批滯留武漢台人 包機回台'}, {'author': 'kzy', 'title': 'Re: [問題] 口罩7天週期怎麼算？'}, {'author': 'zalora', 'title': '[新聞] 黎巴嫩出現首起武漢肺炎死亡病例 境內確'}, {'author': 'sandemo', 'title': '[新聞] 18人不配合檢疫、11人未報到\\u3000173台胞登'}, {'author': 'whe84311', 'title': '[新聞] \"只是怕花粉症\" 日本無疫聲明徽章熱賣'}, {'author': 'toodoo', 'title': 'Re: [問題] 口罩7天週期怎麼算？'}, {'author': 'shinmoner', 'title': '[新聞] 第二批武漢包機延誤！旅客體溫過高 又滑'}, {'author': 'id44kimo', 'title': 'Re: [新聞] 第二批武漢包機延誤！旅客體溫過高 又滑'}, {'author': 'K7788', 'title': '[新聞] 媽媽體溫37.1度未過關！武漢華航包機重開艙門檢疫\\u3000一家三口'}, {'author': 'zalora', 'title': '[新聞] 香港新增3人確診 一例曾赴埃及旅遊'}, {'author': 'powerbus', 'title': 'Re: [新聞] 第二批武漢包機延誤！旅客體溫過高 又滑'}, {'author': 'haehae311444', 'title': '[新聞] 法國死亡增至30例 恐進入「第三期」疫情'}, {'author': 'nicetree', 'title': '[公告] 0310違規公告'}, {'author': 'Manzini', 'title': '[討論] 有關口罩分配配送的建議 有三點如下'}, {'author': 'cheauwong', 'title': '[新聞] 汶萊確診6宗了'}, {'author': 'tim0259', 'title': '[新聞] 武漢肺炎》包機狀況多！東航拒防護衣 僅'}, {'author': 'crazyplum', 'title': '[案例] 台灣武漢肺炎確診案047資料'}, {'author': 'coffee777', 'title': '[情報] 武漢肺炎台灣及全球病例即時戰情儀表版'}, {'author': 'koan', 'title': '[情報] 3/5 12:49 領口罩懶人包 V3.0'}, {'author': 'nicetree', 'title': '[公告] 板規更新（新增推文規範、政治引戰罰則）'}, {'author': 'flyingwhale', 'title': '[公告] 板上重要參考資訊彙整'}, {'author': 'ismail', 'title': '[2200] 境外45+重災國/區逐日+死亡/痊癒序(3/10)'}]\n"
    }
   ],
   "source": [
    "\n",
    "rp = requests.get(\"https://www.ptt.cc/bbs/nCoV2019/index.html\")\n",
    "rp.encoding = \"utf8\"\n",
    "rpb = BeautifulSoup(rp.text)\n",
    "print([{'author':d.find(class_=\"meta\").find(class_='author').text,'title':d.find(class_=\"title\").text.replace(\"\\n\",\"\").replace(\"\\t\",\"\")} for d in rpb.find_all(class_=\"r-ent\")])"
   ]
  }
 ],
 "metadata": {
  "kernelspec": {
   "display_name": "Python 3",
   "language": "python",
   "name": "python3"
  },
  "language_info": {
   "codemirror_mode": {
    "name": "ipython",
    "version": 3
   },
   "file_extension": ".py",
   "mimetype": "text/x-python",
   "name": "python",
   "nbconvert_exporter": "python",
   "pygments_lexer": "ipython3",
   "version": "3.8.1-final"
  }
 },
 "nbformat": 4,
 "nbformat_minor": 2
}