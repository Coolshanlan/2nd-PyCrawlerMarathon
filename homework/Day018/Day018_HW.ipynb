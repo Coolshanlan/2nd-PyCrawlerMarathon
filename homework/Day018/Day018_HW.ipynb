{
 "cells": [
  {
   "cell_type": "markdown",
   "metadata": {},
   "source": [
    "# 瀏覽器開發者工具介紹\n",
    "\n",
    "\n",
    "* 知道瀏覽器的開發者工具\n",
    "* 能夠使用瀏覽器的開發者工具觀察資料\n"
   ]
  },
  {
   "cell_type": "markdown",
   "metadata": {},
   "source": [
    "## 作業目標\n",
    "\n",
    "利用開發者工具去尋找「 https://www.zhihu.com/explore 」和「 http://aicoin.cn 」網站的 HTTP 網址，以及他所帶的 Headers 分別是哪些，試著用 request 去發送有沒有帶 Headers 的差異。\n"
   ]
  },
  {
   "cell_type": "markdown",
   "metadata": {},
   "source": [
    "### 1. https://www.zhihu.com/explore "
   ]
  },
  {
   "cell_type": "code",
   "execution_count": 5,
   "metadata": {
    "scrolled": true
   },
   "outputs": [
    {
     "name": "stdout",
     "output_type": "stream",
     "text": [
      "<html>\r\n",
      "<head><title>400 Bad Request</title></head>\r\n",
      "<body bgcolor=\"white\">\r\n",
      "<center><h1>400 Bad Request</h1></center>\r\n",
      "<hr><center>openresty</center>\r\n",
      "</body>\r\n",
      "</html>\r\n",
      "\n"
     ]
    }
   ],
   "source": [
    "import requests\n",
    "url = 'https://www.zhihu.com/explore'\n",
    "r = requests.get(url)\n",
    "r.encoding = 'utf-8'\n",
    "print(r.text)"
   ]
  },
  {
   "cell_type": "markdown",
   "metadata": {},
   "source": [
    "### 利用查看開發者工具觀察 Headers\n",
    "\n",
    "```\n",
    ":authority: www.zhihu.com\n",
    ":method: GET\n",
    ":path: /explore\n",
    ":scheme: https\n",
    "accept: text/html,application/xhtml+xml,application/xml;q=0.9,image/webp,image/apng,*/*;q=0.8,application/signed-exchange;v=b3;q=0.9\n",
    "accept-encoding: gzip, deflate, br\n",
    "accept-language: zh-TW,zh;q=0.9,en-US;q=0.8,en;q=0.7\n",
    "cache-control: max-age=0\n",
    "cookie: _zap=aeefd1bc-8f11-47a5-ab4d-7373535a7fa2; d_c0=\"APBhsvdHEhCPTvzFn6qxLbE9-r5eNb_ywuQ=|1568884732\"; _ga=GA1.2.648335583.1582722869; ff_supports_webp=1; _xsrf=Hc2eDeBPoo0jiPKk6JoPDEUcEX1ir1Dl; capsion_ticket=\"2|1:0|10:1584535202|14:capsion_ticket|44:ODgyZjE4YzE0NDVjNDZiMjk5Yjc3MWRiY2ZlODIwNzY=|5b515fde12fc72a00beb5366708d7172367af75827aa3af49007bfeabf729d26\"; _gid=GA1.2.1509193033.1584696469; Hm_lvt_98beee57fd2ef70ccdd5ca52b9740c49=1584519739,1584520896,1584543814,1584696469; _gat_gtag_UA_149949619_1=1; KLBRSID=cdfcc1d45d024a211bb7144f66bda2cf|1584697206|1584696464; Hm_lpvt_98beee57fd2ef70ccdd5ca52b9740c49=1584697208\n",
    "sec-fetch-dest: document\n",
    "sec-fetch-mode: navigate\n",
    "sec-fetch-site: none\n",
    "sec-fetch-user: ?1\n",
    "upgrade-insecure-requests: 1\n",
    "user-agent: Mozilla/5.0 (Windows NT 10.0; Win64; x64) AppleWebKit/537.36 (KHTML, like Gecko) Chrome/80.0.3987.149 Safari/537.36\n",
    "```"
   ]
  },
  {
   "cell_type": "code",
   "execution_count": 1,
   "metadata": {},
   "outputs": [
    {
     "output_type": "stream",
     "name": "stdout",
     "text": "<!doctype html>\n<html lang=\"zh\" data-hairline=\"true\" data-theme=\"light\"><head><meta charSet=\"utf-8\"/><title data-react-helmet=\"true\">知乎 - 有问题，上知乎</title><meta name=\"viewport\" content=\"width=device-width,initial-scale=1,maximum-scale=1\"/><meta name=\"renderer\" content=\"webkit\"/><meta name=\"force-rendering\" content=\"webkit\"/><meta http-equiv=\"X-UA-Compatible\" content=\"IE=edge,chrome=1\"/><meta name=\"google-site-verification\" content=\"FTeR0c8arOPKh8c5DYh_9uu98_zJbaWw53J-Sch9MTg\"/><meta name=\"description\" property=\"og:description\" content=\"有问题，上知乎。知乎，可信赖的问答社区，以让每个人高效获得可信赖的解答为使命。知乎凭借认真、专业和友善的社区氛围，结构化\n"
    }
   ],
   "source": [
    "import requests\n",
    "url = 'http://www.zhihu.com'\n",
    "\n",
    "headers = {\n",
    "\n",
    "'accept-language': 'zh-TW,zh;q=0.9,en-US;q=0.8,en;q=0.7',\n",
    "'cookie': '_zap=aeefd1bc-8f11-47a5-ab4d-7373535a7fa2; d_c0=\"APBhsvdHEhCPTvzFn6qxLbE9-r5eNb_ywuQ=|1568884732\"; _ga=GA1.2.648335583.1582722869; ff_supports_webp=1; _xsrf=Hc2eDeBPoo0jiPKk6JoPDEUcEX1ir1Dl; capsion_ticket=\"2|1:0|10:1584535202|14:capsion_ticket|44:ODgyZjE4YzE0NDVjNDZiMjk5Yjc3MWRiY2ZlODIwNzY=|5b515fde12fc72a00beb5366708d7172367af75827aa3af49007bfeabf729d26\"; _gid=GA1.2.1509193033.1584696469; Hm_lvt_98beee57fd2ef70ccdd5ca52b9740c49=1584519739,1584520896,1584543814,1584696469; _gat_gtag_UA_149949619_1=1; KLBRSID=cdfcc1d45d024a211bb7144f66bda2cf|1584697206|1584696464; Hm_lpvt_98beee57fd2ef70ccdd5ca52b9740c49=1584697208',\n",
    "'sec-fetch-dest': 'document',\n",
    "'sec-fetch-mode': 'navigate',\n",
    "'sec-fetch-site': 'none',\n",
    "'sec-fetch-user': '?1',\n",
    "'upgrade-insecure-requests': '1',\n",
    "'user-agent': 'Mozilla/5.0 (Windows NT 10.0; Win64; x64) AppleWebKit/537.36 (KHTML, like Gecko) Chrome/80.0.3987.149 Safari/537.36'\n",
    "}\n",
    "\n",
    "r = requests.get(url, headers=headers)\n",
    "\n",
    "r.encoding = 'utf-8'\n",
    "print(r.text[0:600])"
   ]
  },
  {
   "cell_type": "markdown",
   "metadata": {},
   "source": [
    "### 2. http://aicoin.cn"
   ]
  },
  {
   "cell_type": "code",
   "execution_count": 44,
   "metadata": {},
   "outputs": [
    {
     "output_type": "stream",
     "name": "stdout",
     "text": "<!DOCTYPE html><html style=\"height:100%;width:100%\"><head><meta http-equiv=\"Content-Type\" content=\"text/html; charset=utf-8\" /><meta http-equiv=\"Server\" content=\"CloudWAF\" /><title id=\"title\">访问被拦截！</title><script>function bindall() {var requestid = \"30-31-21-20200320182721-e5372349\";if(requestid==null || requestid == \"\"){return;}document.getElementById(\"d\").innerText = requestid;}</script></head><body onload=\"bindall()\" style=\"height:100%;width:100%;margin:0px;font-family:Microsoft yahei\"><div><style type=\"text/css\">\t.button{float:right;margin-right:2rem;text-decoration:none;background:white;color:#e94d4c;padding: 5px 15px 5px 15px;font-size:1rem;font-family: 微软雅黑,宋体,Arial,Helvetica,Verdana,sans-serif;font-weight:bold;border-radius:0rem;border: none;-webkit-transition:all linear 0.30s;-moz-transition:all linear 0.30s;}.button:hover{text-decoration:none;background:#e94d4c;color:#f2f2f2;}</style><input type=\"button\" class=\"button\" onclick=\"changeLanguageZh()\" value=\"中文\"/><input type=\"button\" class=\"button\"  onclick=\"changeLanguageEn()\" value=\"English\"/></div><div style=\"min-height:13.125rem;height:17%;width:100%\"><div style=\"margin-top:3.75rem;margin-left:18.4375rem;height:52.38;width:83.04%;\"><svg xmlns=\"http://www.w3.org/2000/svg\" style=\"width: 3.125rem;height: 3.125rem\" viewBox=\"0 0 50 50\"><path fill=\"#e84e4c\" d=\"M25,0A25,25,0,1,0,50,25,25,25,0,0,0,25,0Zm1.6,37.16H22.85V33.41H26.6Zm0-6.63H22.85L22.35,13H27.1Z\"/></svg><font style=\"font-family:MicrosoftYaHei;font-size:4.375rem;color:#e94d4c;margin-left: 0.75rem;font-weight: bold;\">418</font></div><div style=\"margin-left:18.4375rem;height:47.62%;width:83.04%;\"><font id=\"a\" style=\"font-family:MicrosoftYaHei;font-size:1.875rem;color:#999999;word-wrap:break-word;\">您的请求疑似攻击行为！</font><p style=\"font-family:MicrosoftYaHei;font-size:0.9rem;color:#999999;word-wrap:break-word;\"><span id=\"c\">事件ID：</span><span style=\"color:#499df2\" id=\"d\">False alarm ID</p></div></div><div style=\"height:15.625rem;width:100%;min-width:105rem;\"><div style=\"margin-left:18.4375rem;float:left;width:50rem\"><p id=\"b\" style=\"margin-top:10px\">如果您是站长，您可以前往WAF控制台进行误报屏蔽设置，让您的访问不再被拦截</p></div></div></body><script>function changeLanguageZh() {document.getElementById(\"title\").innerHTML = \"访问被拦截！\";document.getElementById(\"a\").innerHTML = \"您的请求疑似攻击行为！\";document.getElementById(\"b\").innerHTML = \"如果您是站长，您可以前往WAF控制台进行误报屏蔽设置，让您的访问不再被拦截\";document.getElementById(\"c\").innerHTML = \"事件ID：\";}function changeLanguageEn() {document.getElementById(\"title\").innerHTML = \"The access is blocked.\";document.getElementById(\"a\").innerHTML = \"Sorry, your request has been intercepted because it appears to be an attack.\";document.getElementById(\"b\").innerHTML = \"If you are the webmaster, configure related parameters on the WAF console to allow your requests.\";document.getElementById(\"c\").innerHTML = \"Event ID:\";}var language = navigator.language || navigator.browserLanguage;if (language.indexOf('zh') > -1) {changeLanguageZh();} else if (language.indexOf('en') > -1) {changeLanguageEn();} else{changeLanguageZh();}</script></html>\n\n"
    }
   ],
   "source": [
    "import requests\n",
    "\n",
    "url = 'http://aicoin.cn/'\n",
    "r = requests.get(url)\n",
    "r.encoding = 'utf-8'\n",
    "print(r.text)"
   ]
  },
  {
   "cell_type": "markdown",
   "metadata": {},
   "source": [
    "### 利用查看開發者工具觀察 Headers\n",
    "\n",
    "```\n",
    "'''\n",
    "Accept: text/html,application/xhtml+xml,application/xml;q=0.9,image/webp,image/apng,*/*;q=0.8,application/signed-exchange;v=b3;q=0.9\n",
    "Accept-Encoding: gzip, deflate, br\n",
    "Accept-Language: zh-TW,zh;q=0.9,en-US;q=0.8,en;q=0.7\n",
    "Cache-Control: max-age=0\n",
    "Connection: keep-alive\n",
    "Cookie: HWWAFSESID=03e39a3a6b86ed0829; HWWAFSESTIME=1584699173575; _pk_testcookie..undefined=1; _pk_testcookie.2.57ea=1; _pk_id.2.57ea=a70a460e3b0d7883.1584699182.1.1584699182.1584699182.; _pk_ses.2.57ea=1; Hm_lvt_3c606e4c5bc6e9ff490f59ae4106beb4=1584699182; Hm_lpvt_3c606e4c5bc6e9ff490f59ae4106beb4=1584699182; aicoin_session=eyJpdiI6IlwvcTFhdFlLdlVRWHBNUXN1VFVwenNBPT0iLCJ2YWx1ZSI6Ijdvbklld2hhdEpyaTZqMnFic3l1K1wvdjhrUk9ZYUp6NWhaNlNiM09PdjNweWlyb2JVaHkwNzV0WElsRmxcL0FuQUF5eU94ZklqdVl4WUQzZFIybkpLclE9PSIsIm1hYyI6ImI1NDI2N2ZlMzE1NjQxN2VjYmZiYjM0OGQxMmM4YzQ1MmU4ZjUyZGYxOTJkZTdjOTc0ZDM5OTc0OTM1MzQ0MjEifQ%3D%3D; _ga=GA1.2.147268737.1584699178; _gid=GA1.2.622639621.1584699184; _gat_gtag_UA_108140256_2=1\n",
    "Host: www.aicoin.cn\n",
    "If-None-Match: W/\"11eeb0-2Q83+KyioS0wOidpxqrKejB/mkg\"\n",
    "Sec-Fetch-Dest: document\n",
    "Sec-Fetch-Mode: navigate\n",
    "Sec-Fetch-Site: same-origin\n",
    "Sec-Fetch-User: ?1\n",
    "Upgrade-Insecure-Requests: 1\n",
    "User-Agent: Mozilla/5.0 (Windows NT 10.0; Win64; x64) AppleWebKit/537.36 (KHTML, like Gecko) Chrome/80.0.3987.149 Safari/537.36\n",
    "'''\n",
    "```"
   ]
  },
  {
   "cell_type": "code",
   "execution_count": 48,
   "metadata": {},
   "outputs": [
    {
     "output_type": "stream",
     "name": "stdout",
     "text": "\n"
    }
   ],
   "source": [
    "import requests\n",
    "url = 'http://aicoin.cn/'\n",
    "headers = {\n",
    "'Accept': 'text/html,application/xhtml+xml,application/xml;q=0.9,image/webp,image/apng,*/*;q=0.8,application/signed-exchange;v=b3;q=0.9',\n",
    "'Accept-Encoding': 'gzip, deflate, br',\n",
    "'Accept-Language': 'zh-TW,zh;q=0.9,en-US;q=0.8,en;q=0.7',\n",
    "'Connection': 'keep-alive',\n",
    "'Cache-Control': 'max-age=0',\n",
    "'Cookie': 'HWWAFSESID=03e39a3a6b86ed0829; HWWAFSESTIME=1584699173575; _pk_testcookie..undefined=1; _pk_testcookie.2.57ea=1; _pk_id.2.57ea=a70a460e3b0d7883.1584699182.1.1584699182.1584699182.; _pk_ses.2.57ea=1; Hm_lvt_3c606e4c5bc6e9ff490f59ae4106beb4=1584699182; Hm_lpvt_3c606e4c5bc6e9ff490f59ae4106beb4=1584699182; aicoin_session=eyJpdiI6IlwvcTFhdFlLdlVRWHBNUXN1VFVwenNBPT0iLCJ2YWx1ZSI6Ijdvbklld2hhdEpyaTZqMnFic3l1K1wvdjhrUk9ZYUp6NWhaNlNiM09PdjNweWlyb2JVaHkwNzV0WElsRmxcL0FuQUF5eU94ZklqdVl4WUQzZFIybkpLclE9PSIsIm1hYyI6ImI1NDI2N2ZlMzE1NjQxN2VjYmZiYjM0OGQxMmM4YzQ1MmU4ZjUyZGYxOTJkZTdjOTc0ZDM5OTc0OTM1MzQ0MjEifQ%3D%3D; _ga=GA1.2.147268737.1584699178; _gid=GA1.2.622639621.1584699184; _gat_gtag_UA_108140256_2=1',\n",
    "'Host': 'www.aicoin.cn',\n",
    "'If-None-Match': 'W/\"11eeb0-2Q83+KyioS0wOidpxqrKejB/mkg\"',\n",
    "'Sec-Fetch-Dest': 'document',\n",
    "'Sec-Fetch-Mode': 'navigate',\n",
    "'Sec-Fetch-Site': 'same-origin',\n",
    "'Sec-Fetch-User': '?1',\n",
    "'Upgrade-Insecure-Requests': '1',\n",
    "'User-Agent': 'Mozilla/5.0 (Windows NT 10.0; Win64; x64) AppleWebKit/537.36 (KHTML, like Gecko) Chrome/80.0.3987.149 Safari/537.36'\n",
    "}\n",
    "r = requests.get(url,headers=headers)\n",
    "r.encoding = 'utf-8'\n",
    "print(r)"
   ]
  },
  {
   "cell_type": "code",
   "execution_count": null,
   "metadata": {},
   "outputs": [],
   "source": []
  }
 ],
 "metadata": {
  "kernelspec": {
   "display_name": "Python 3",
   "language": "python",
   "name": "python3"
  },
  "language_info": {
   "codemirror_mode": {
    "name": "ipython",
    "version": 3
   },
   "file_extension": ".py",
   "mimetype": "text/x-python",
   "name": "python",
   "nbconvert_exporter": "python",
   "pygments_lexer": "ipython3",
   "version": "3.8.1-final"
  }
 },
 "nbformat": 4,
 "nbformat_minor": 2
}