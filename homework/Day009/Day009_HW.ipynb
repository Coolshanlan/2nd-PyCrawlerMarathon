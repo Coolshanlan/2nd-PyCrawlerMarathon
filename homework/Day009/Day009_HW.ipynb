{
 "cells": [
  {
   "cell_type": "markdown",
   "metadata": {},
   "source": [
    "# 作業\n",
    "\n",
    "以正確的副檔名下載網頁中的圖片\n",
    "範例網頁:https://www.ptt.cc/bbs/Beauty/M.1556291059.A.75A.html\n",
    "\n",
    "Note：因為 PTT 會詢問「是否滿 18 歲」，這邊可以用 cookies 繞過\n",
    "\n",
    "`requests.get(URL, cookies={'over18': '1'}`\n"
   ]
  },
  {
   "cell_type": "code",
   "execution_count": 140,
   "metadata": {},
   "outputs": [],
   "source": [
    "import requests\n",
    "import os\n",
    "from bs4 import BeautifulSoup\n",
    "from PIL import Image\n",
    "import urllib"
   ]
  },
  {
   "cell_type": "code",
   "execution_count": 91,
   "metadata": {},
   "outputs": [],
   "source": [
    "url = 'https://www.ptt.cc/bbs/Beauty/M.1556291059.A.75A.html'\n",
    "resp = requests.get(url, cookies={'over18': '1'})\n",
    "soup = BeautifulSoup(resp.text)"
   ]
  },
  {
   "cell_type": "code",
   "execution_count": 147,
   "metadata": {},
   "outputs": [
    {
     "name": "stdout",
     "output_type": "stream",
     "text": "['https://imgur.com/Cgb5oo1', 'https://imgur.com/MgjHY4f', 'https://imgur.com/yeoRtAs', 'https://imgur.com/wsauNEW', 'https://imgur.com/IjiETcs']\nSave image Cgb5oo1\nSave image MgjHY4f\nSave image yeoRtAs\nSave image wsauNEW\nSave image IjiETcs\n"
    }
   ],
   "source": [
    "# 決定要儲存的資料夾\n",
    "output_dir = 'downloads'\n",
    "\n",
    "# 假如資料夾不存在就新增一個資料夾\n",
    "if not os.path.exists(output_dir):\n",
    "    os.makedirs(output_dir)\n",
    "\n",
    "# 定位所有圖片的 tag\n",
    "image_tags = [im[\"href\"] for im in soup.find(id=\"main-content\").find_all(\"a\",recursive=False)]\n",
    "print(image_tags)\n",
    "for img_tag in image_tags:\n",
    "    # 取得所有圖片在第三方服務的 id\n",
    "    if \"imgur\" not in img_tag:\n",
    "        continue\n",
    "    img_id=tag =img_tag.split(\"/\")[-1]\n",
    "    img_url = \"https://i.imgur.com/{img_id}.jpg\".format(img_id=img_id)\n",
    "    #print(img_url)\n",
    "\n",
    "    # methon 01\n",
    "    # with  requests.get(img_url,stream=True) as rq :\n",
    "    #     rq.raise_for_status()\n",
    "        \n",
    "        # img = Image.open(rq.raw)\n",
    "        # img.save('{outdir}/{tag}.{ext}'.format(outdir=output_dir,tag=img_id,ext=img.format.lower()))\n",
    "        # print(img.format.lower())\n",
    "\n",
    "    # methon 02\n",
    "    #urllib.request.urlretrieve(img_url,'{outdir}/{tag}.{ext}'.format(outdir=output_dir,tag=img_id,ext=\"jpg\"))\n",
    "    \n",
    "    #methon 03\n",
    "    with  requests.get(img_url,stream=True) as rq :\n",
    "        rq.raise_for_status()#check respose status\n",
    "        with open(f\"{output_dir}/{img_id}.jpg\",\"wb\") as rw:\n",
    "            for chunk in rq.iter_content(chunk_size=10000):\n",
    "                if chunk:\n",
    "                    rw.write(chunk)\n",
    "       \n",
    "\n",
    "    print( f\"Save image {img_id}\")\n",
    "    # 組合圖片而非網站的網址\n",
    "\n",
    "    # 對圖片送出請求"
   ]
  },
  {
   "cell_type": "code",
   "execution_count": null,
   "metadata": {},
   "outputs": [],
   "source": []
  }
 ],
 "metadata": {
  "kernelspec": {
   "display_name": "Python 3",
   "language": "python",
   "name": "python3"
  },
  "language_info": {
   "codemirror_mode": {
    "name": "ipython",
    "version": 3
   },
   "file_extension": ".py",
   "mimetype": "text/x-python",
   "name": "python",
   "nbconvert_exporter": "python",
   "pygments_lexer": "ipython3",
   "version": "3.6.9-final"
  }
 },
 "nbformat": 4,
 "nbformat_minor": 2
}