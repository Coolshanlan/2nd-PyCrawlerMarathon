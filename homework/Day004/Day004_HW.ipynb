{
 "cells": [
  {
   "cell_type": "markdown",
   "metadata": {
    "colab_type": "text",
    "id": "uSf0mVenUdOf"
   },
   "source": [
    "# 利用 Python 存取 API\n",
    "\n",
    "\n",
    "* 了解 Server Client 的架構與溝通方法\n",
    "* 知道 HTTP Request & Response 的內容\n",
    "* 什麼是 API？如何用 Python 程式存取 API 資料\n"
   ]
  },
  {
   "cell_type": "markdown",
   "metadata": {
    "colab_type": "text",
    "id": "FwvxVPZuUdOh"
   },
   "source": [
    "## 作業目標\n",
    "\n",
    "* 比較一下範例檔案中的「r.text」與「json.loads(r.text)」讀出來的內容有什麼差異\n",
    "* 自行尋找一個合適的 API 接口做練習，並且查看其回傳內容\n",
    "    * https://cat-fact.herokuapp.com/facts (來源：https://alexwohlbruck.github.io/cat-facts/)\n",
    "    * http://odata.wra.gov.tw/v4/RealtimeWaterLevel (來源：https://data.gov.tw/dataset/25768)\n",
    "\n"
   ]
  },
  {
   "cell_type": "markdown",
   "metadata": {
    "colab_type": "text",
    "id": "r5GIjwYuUdOi"
   },
   "source": [
    "### 比較一下範例檔案中的「r.text」與「json.loads(r.text)」讀出來的內容有什麼差異"
   ]
  },
  {
   "cell_type": "code",
   "execution_count": 12,
   "metadata": {},
   "outputs": [
    {
     "name": "stdout",
     "output_type": "stream",
     "text": "c=this.f[e],c.C()==d)return this.F[a]=c;return null};_.Ei.prototype.Db=function(a){a.Kc(this);this.f.push(a);var c=a.A.id;c&&(this.F[c]=a)};_.Ei.prototype.V=function(){for(var a=0,c=this.f.length;a<c;a++)this.f[a].sa();this.F={};this.f=[]};\nvar Fi=function(a,c){_.Ei.call(this,c||this.createElement());this.j=a;a=this.C().getElementsByClassName(\"gb_Lc\");for(c=0;c<a.length;c++){var d=a[c];_.R(d,\"gb_Rc\")?this.Db(new Di(this,d)):this.Db(new Ci(this,d))}this.b=_.M(\"gb_Mc\",this.C())};_.w(Fi,_.Ei);_.k=Fi.prototype;_.k.createElement=function(){var a=_.ze(\"UL\");_.S(a,\"gb_Ic\");var c=_.ve(\"SPAN\",\"gb_Mc\");a.appendChild(c);return a};_.k.Db=function(a){Fi.L.Db.call(this,a);var c=this.j,d=a.C();d=d.id||(d.id=\"gbm\"+_.Zg(_.Yg.ta()));c.O[d]=a};\n_.k.vj=function(){return null!=this.b?_.ai(this.b):null};_.k.wj=function(a){return null!=this.b?(_.hg(this.b,a),this):null};_.k.Zg=function(){var a=new Ci(this);this.Db(a);return a};_.k.$g=function(){var a=new Di(this);this.Db(a);return a};\nvar V=function(a,c,d,e,f,g,h){_.Ei.call(this,a);this.b=c;this.B=a;this.w=d;this.M=e;this.J=f;this.o=_.M(\"gb_Ec\",this.b);this.K=new _.ii(this.o);this.D=_.M(\"gb_Fc\",this.o);this.G=_.M(\"gb_Hc\",this.o);this.O={};this.N=[];this.R=g||!1;this.U=h||!1;this.j=new _.vg(this);Gi(this);a=this.o.getElementsByClassName(\"gb_Ic\");for(c=0;c<a.length;c++)this.Db(new Fi(this,a[c]))};_.p(V,_.Ei);_.k=V.prototype;_.k.P=function(){_.Ei.prototype.P.call(this);Hi(this)};_.k.Ed=function(){return this.o};\n_.k.Aj=function(){return _.M(\"gb_le\",this.b)};_.k.Yg=function(){Ii(this);return Ji(this,this.D)};_.k.Xg=function(){Ii(this);return Ji(this,this.G)};var Ji=function(a,c){var d=new Fi(a),e=d.C();c.appendChild(e);a.Db(d);return d},Ii=function(a){a.D||(a.D=_.ze(\"DIV\"),_.S(a.D,\"gb_Fc\"),a.o.appendChild(a.D),a.G=_.ze(\"DIV\"),_.S(a.G,\"gb_Hc\"),a.o.appendChild(a.G))};V.prototype.va=function(a){_.U(this.b,\"gb_Cc\",1==a);this.dispatchEvent(\"msc\")};V.prototype.$=function(){return Ki(this)?0:1};\nvar Li=function(a,c){switch(c){case \"menu\":_.T(a.C(),\"gb_Fa\");break;case \"back\":_.T(a.w,\"gb_Fa\");break;case \"close\":_.T(a.M,\"gb_Fa\")}},Mi=function(a){_.S(a.C(),\"gb_Fa\");_.S(a.w,\"gb_Fa\");_.S(a.M,\"gb_Fa\")},Ni=function(a){return!_.R(a,\"gb_Fa\")};_.k=V.prototype;_.k.isVisible=function(a){switch(a){case \"menu\":return Ni(this.C());case \"back\":return Ni(this.w);case \"close\":return Ni(this.M)}return!1};\n_.k.ff=function(a){this.J||(a&&_.Jg(this.b,\"transition\",\"none\"),this.dispatchEvent(\"beforeshow\"),_.S(this.b,\"gb_na\"),_.Fe(this.C(),\"expanded\",!0),_.pi(this.o),_.ji(this.K),this.dispatchEvent(\"open\"),this.j.o(document.body,Oi,this.T,!0,this),this.j.H(document.body,\"focusin\",this.S),a&&_.qg(function(){_.Jg(this.b,\"transition\",\"\")},0,this))};_.k.fk=function(a){this.J&&_.Fe(this.C(),\"expanded\",a)};\n_.k.close=function(a){this.J||(a&&_.Jg(this.b,\"transition\",\"none\"),_.T(this.b,\"gb_na\"),_.Fe(this.C(),\"expanded\",!1),document.activeElement==this.C()&&this.C().blur(),_.li(this.K),this.dispatchEvent(\"close\"),Hi(this),a&&_.qg(function(){_.Jg(this.b,\"transition\",\"\")},0,this))};_.k.sk=function(a){Ni(this.B)&&_.S(this.B,\"gb_wc\");_.T(this.w,\"gb_Fa\");a&&_.Ye(this.w,\"click\",a)};_.k.Ti=function(){_.S(this.w,\"gb_Fa\");_.R(this.B,\"gb_wc\")&&_.T(this.B,\"gb_wc\")};_.k.Sb=function(){return _.R(this.b,\"gb_na\")};\nvar Gi=function(a){_.ph(a.j,a.C(),a.ka);a.C().addEventListener(\"keydown\",function(c){32==c.keyCode&&c.preventDefault()});_.ph(a.j,a.o,a.Z);a.j.H(a.b,\"keydown\",a.ua);a.j.H(a.b,\"keyup\",a.ma);_.ph(a.j,a.w,function(){this.dispatchEvent(\"bbc\")});_.ph(a.j,a.M,function(){this.dispatchEvent(\"cbc\")});if(_.R(a.b,\"gb_ta\")||_.R(a.b,\"gb_Vd\"))a.j.H(window,\"resize\",a.X),a.X();_.R(a.b,\"gb_yc\")||a.j.rb(window,\"touchstart\",function(){_.Jg(a.b,\"overflow-y\",\"auto\")})};\nV.prototype.X=function(){var a=window.visualViewport?window.visualViewport.height:window.innerHeight;a&&_.Jg(this.b,\"height\",\"calc(\"+a+\"px - 100%)\")};V.prototype.ka=function(){this.dispatchEvent(\"mbc\");if(!this.J){if(this.Sb()){this.close();var a=!0}else this.ff(),a=!1;a&&this.C().focus()}};var Ki=function(a){return!_.R(a.b,\"gb_Cc\")||_.R(a.b,\"gb_ta\")||_.R(a.b,\"gb_Vd\")};V.prototype.ma=function(a){9===a.keyCode&&this.Sb()&&(a=this.K,_.U(a.f,\"gb_u\",!0),ki(a))};\nV.prototype.ua=function(a){a:{if(36==a.keyCode||35==a.keyCode){var c=_.hi(this.b);if(0<c.length){var d=c[c.length-1];36==a.keyCode&&(d=!Ki(this)&&1<c.length?c[1]:c[0]);d.focus();a.preventDefault();break a}}27!=a.keyCode||this.R&&!Ki(this)||(this.close(),null!=this.B&&this.B.focus())}9===a.keyCode&&this.Sb()&&Ki(this)&&(c=a.target,d=_.hi(this.b),0<d.length&&(c==d[0]&&a.shiftKey?(d[d.length-1].focus(),a.preventDefault()):c!=d[d.length-1]||a.shiftKey||(d[0].focus(),a.preventDefault())))};\nV.prototype.Z=function(a){if(a.target instanceof Node){a:{a=a.target;for(var c=this.o;a&&a!==c;){var d=a.id;if(d in this.O){a=this.O[d];break a}a=a.parentNode}a=null}if(a){a=a.Dd();c=0;for(d=this.N.length;c<d;++c){var e=this.N[c];e.Oa.call(e.b,a)}this.R&&!Ki(this)||this.close()}}};var Pi=function(a){return a instanceof HTMLElement&&ei(a,\"ogobm\")};\nV.prototype.T=function(a){this.Sb()&&a.target instanceof Node&&!(!Ki(this)||this.U&&_.th(a.target,Pi))&&(\"keydown\"==a.type?27==a.keyCode&&(a.preventDefault(),a.stopPropagation(),this.close(),this.C().focus()):_.uh(a.target,\"gb_F\")||_.uh(a.target,\"gb_rc\")||_.gg(this.b,a.target)||(\"touchstart\"==a.type&&(a.preventDefault(),a.stopPropagation()),this.close()))};\nV.prototype.S=function(){this.Sb()&&(!Ki(this)||\"IFRAME\"!=document.activeElement.tagName&&(this.U&&_.th(document.activeElement,Pi)||_.uh(document.activeElement,\"gb_xc\")||_.uh(document.activeElement,\"gb_F\")||_.pi(this.o)))};var Hi=function(a){a.j.Ba(document.body,Oi,a.T,!1,a);a.j.Ba(document.body,\"focusin\",a.S)};V.prototype.W=function(a,c){this.N.push(new Qi(a,c))};var Oi=\"click mousedown scroll touchstart wheel keydown\".split(\" \"),Qi=function(a,c){this.Oa=a;this.b=c};\n_.Ri=function(a){_.mi.call(this,a);_.O(a,\"click\",this.b,!1,this)};_.w(_.Ri,_.mi);_.Ri.prototype.f=function(){var a=this.C().getAttribute(\"aria-pressed\");return(null==a?a:\"boolean\"===typeof a?a:\"true\"==a)||!1};_.Ri.prototype.b=function(a){a=a.b;var c=_.bi(a,\"pressed\");_.sg(_.Tg(c))||\"true\"==c||\"false\"==c?_.Fe(a,\"pressed\",\"true\"==c?\"false\":\"true\"):a.removeAttribute(\"aria-pressed\");this.dispatchEvent(\"click\")};\n_.Si=function(){_.u(\"gbar.I\",_.mi);_.mi.prototype.ia=_.mi.prototype.ya;_.mi.prototype.ib=_.mi.prototype.C;_.mi.prototype.ic=_.mi.prototype.Y;_.u(\"gbar.J\",_.Ei);_.Ei.prototype.ja=_.Ei.prototype.Ia;_.Ei.prototype.jb=_.Ei.prototype.V;_.u(\"gbar.K\",_.ni);_.u(\"gbar.L\",_.Ri);_.Ri.prototype.la=_.Ri.prototype.f};\nvar W=function(a,c,d,e){_.Q.call(this);this.j=a;_.T(this.j,\"gb_Nd\");this.f=c;this.M=d;this.Sa=\"\";this.Vb=e;this.D=this.b=null;this.Ma=this.O=this.W=!1;this.ua=_.K(_.C(this.f,16),!1);this.V=new _.vg(this);this.ya=_.M(\"gb_Xc\",this.j);this.S=_.K(_.C(c,6),!1);this.nd=_.M(\"gb_2c\",this.ya);this.w=_.M(\"gb_Od\",this.j);this.K=_.M(\"gb_Zd\",this.j);(this.$=_.K(_.C(this.f,21),!1))&&this.w&&(this.va=_.M(\"gb_ze\",this.j),this.R=_.M(\"gb_De\",this.j),this.N=_.M(\"gb_Ae\",this.j));this.F=_.M(\"gb_Tc\",this.j);this.U=_.M(\"gb_Kc\",\nthis.j);this.Be=_.M(\"gb_Uc\",this.j);this.B=_.M(\"gb_0c\",this.j);this.A=_.M(\"gb_1d\",this.j);this.Y=Array.prototype.slice.call(_.rh(\"gb_6d\",this.j));this.T=!1;this.Ac=_.K(_.C(this.f,19),!1);this.sc=_.K(_.C(this.f,20),!1);a=Ti(this,!0);c=Ti(this,!1);this.kd=Math.max(a,c);this.X=_.C(this.f,15);d=_.Mc(_.B(this.f,30),0);0!=d&&Ui(this,d);a=Vi(this,a,c);this.G=new zi(this.j,Wi);this.hc=_.L(_.B(this.f,37));this.bc=_.L(_.B(this.f,38));this.zc=_.R(this.j,\"gb_3d\");this.rd=_.K(_.C(this.f,39));this.$&&this.w&&(this.ab=\nnew zi(this.j,Xi),this.ab.f(\"catc\",this.ka,this),this.ka(),_.ph(this.V,this.va,function(){var f=this.R,g=!_.R(f,\"gb_Fa\");_.U(f,\"gb_Fa\",g)}));this.jd=_.K(_.C(this.f,1),!1);this.hd=_.K(_.C(this.f,40),!1);this.jc=_.K(_.C(this.f,42),!1);Yi(this);Zi(this,this.G.b);this.G.f(\"catc\",this.lc,this);_.C(this.f,8)&&document.addEventListener(\"scroll\",(0,_.t)(function(){_.U(this.j,\"gb_Qd\",0<window.scrollY)},this));null!=this.A&&_.C(this.f,7)&&(this.ma=new zi(this.A,a),this.ma.f(\"catc\",this.Se,this),this.Se())};\n_.w(W,_.Q);var $i=\"click mousedown scroll touchstart wheel keydown\".split(\" \"),Wi=[{id:\"gb_ta\",max:599},{id:\"gb_Vd\",max:1023},{id:\"gb_Dc\"}],Xi=[{id:{id:\"oneProductControl\",le:1},max:320},{id:{id:\"twoProductControl\",le:2},max:360},{id:{id:\"threeProductControl\",le:3},max:410},{id:Bi}];_.k=W.prototype;_.k.C=function(){return this.j};_.k.kk=function(a){this.D=a;aj(this,this.W);a=bj(this);0!=a&&cj(this,a)};_.k.lk=function(a,c){this.D&&Ph(this.D,a,c)};\n_.k.Cj=function(a){this.Ub(a||this.rd?1:0);this.Fb(a?this.hc:this.bc);var c=_.M(\"gb_4\");null!=c&&_.U(c,\"gb_ja\",a);this.b&&this.hd&&_.U(this.b.b,\"gb_Bc\",a);_.sd.ta().b.then(function(d){this.jc&&d.vk(a);d.tj(a)},void 0,this)};_.k.mk=function(a){this.ya&&(_.hg(this.nd,a||\"\"),_.U(this.ya,\"gb_Fa\",!a),this.S=!!a,Zi(this,this.G.b))};_.k.Bj=function(){return _.M(\"gb_le\",this.w)};_.k.Se=function(){if(null!=this.ma){var a=this.ma.b;3==a?dj(this,!1):1==a?dj(this,!0):dj(this,\"gb_Dc\"==this.G.b)}};\nvar dj=function(a,c){if(_.C(a.f,7)&&(!a.T||c)){if(a.X){var d=_.M(\"gb_re\",a.j);if(d){var e=_.M(\"gb_se\",a.j),f=\"gb_Dc\"!=a.G.b||c?\"\":a.kd+\"px\";_.Jg(d,\"min-width\",f);_.Jg(e,\"min-width\",f)}}_.R(a.A,\"gb_Fe\")!=c&&(_.U(a.A,\"gb_Fe\",c),c?a.dispatchEvent(\"sfi\"):a.dispatchEvent(\"sfu\"),_.U(_.M(\"gb_Te\",a.A),\"gb_Fe\",c),c&&a.ka())}},Yi=function(a){var c=_.sd.ta();a.w||Kh(c.f,Error(\"G\"));_.K(_.C(a.f,11))||Kh(c.D,Error(\"H\"));_.K(_.C(a.f,7))||Kh(c.B,Error(\"I\"));_.K(_.C(a.f,12))||Kh(c.w,Error(\"J\"));_.K(_.C(a.f,13))||\nKh(c.A,Error(\"K\"));_.K(_.C(a.f,41))||Kh(c.j,Error(\"L\"))},Zi=function(a,c){if(!a.b&&a.w){var d=_.M(\"gb_rc\",a.j);if(d){var e=_.M(\"gb_xc\");if(e){var f=_.M(\"gb_uc\");if(f){var g=_.M(\"gb_vc\");if(g){a.b=new V(d,e,f,g,_.K(_.C(a.f,16),!1),_.K(_.C(a.f,9),!1),_.K(_.C(a.f,33),!1));a.b.H(\"open\",a.nc,!1,a);a.b.H(\"close\",a.mc,!1,a);a.b.H(\"msc\",a.qc,!1,a);switch(_.B(a.f,32)){case 1:a.J(\"back\");break;case 2:a.J(\"close\");break;case 3:a.J(\"none\");break;default:a.J(\"default\")}_.Si();_.u(\"gbar.C\",V);V.prototype.ca=V.prototype.Ed;\nV.prototype.cb=V.prototype.Yg;V.prototype.cc=V.prototype.W;V.prototype.cd=V.prototype.va;V.prototype.ce=V.prototype.Xg;V.prototype.cf=V.prototype.ff;V.prototype.cg=V.prototype.close;V.prototype.ch=V.prototype.$;V.prototype.ci=V.prototype.sk;V.prototype.cj=V.prototype.Ti;V.prototype.ck=V.prototype.Sb;V.prototype.cl=V.prototype.fk;V.prototype.cm=V.prototype.Aj;_.u(\"gbar.D\",Fi);Fi.prototype.da=Fi.prototype.Zg;Fi.prototype.db=Fi.prototype.$g;Fi.prototype.dc=Fi.prototype.vj;Fi.prototype.dd=Fi.prototype.wj;\n_.u(\"gbar.E\",Ci);Ci.prototype.ea=Ci.prototype.C;Ci.prototype.eb=Ci.prototype.Zc;Ci.prototype.ec=Ci.prototype.xj;Ci.prototype.ed=Ci.prototype.Dd;_.u(\"gbar.F\",Di);Di.prototype.fa=Di.prototype.zj;Di.prototype.fb=Di.prototype.yj;Di.prototype.fc=Di.prototype.jk;Di.prototype.fd=Di.prototype.xg;Di.prototype.ed=Di.prototype.Dd;_.rd(_.sd.ta().f,a.b)}else a.M.log(Error(\"C\"))}else a.M.log(Error(\"D\"))}else a.M.log(Error(\"E\"))}else a.M.log(Error(\"F\"))}a.b&&!a.O&&a.J(\"default\");a.b&&a.sc&&a.J(\"none\");ej(a);a.Ac||\na.ua?a.W=!0:(d=\"gb_ta\"==c,e=_.K(_.C(a.f,5),!1),f=_.K(_.C(a.f,7),!1),a.W=!(a.S||d&&(e||f)));d=fj(a,c);a.b&&d?_.gj(a)||null==a.U||(d=_.M(\"gb_Jc\"),a.U.parentNode!=d&&d.insertBefore(a.U,d.childNodes[0]||null),_.S(a.F,\"gb_2d\"),a.Z(),a.dispatchEvent(\"upi\")):_.gj(a)&&a.w&&null!=a.U&&(d=a.Be,d.insertBefore(a.U,d.childNodes[0]||null),_.T(a.F,\"gb_2d\"),a.Z(),a.dispatchEvent(\"upo\"));d=\"gb_ta\"==c;a.D&&!a.ua&&(e=a.D.C(),f=!a.S,_.U(e,\"gb_Fa\",!f),f&&aj(a,a.W));a.b&&(a.b.isVisible(\"menu\")||a.b.isVisible(\"back\"))&&\n!Ki(a.b)&&(a.Ma=a.b.Sb());e=_.Yf(Ai);_.nh(a.j,e);_.S(a.j,c);_.C(a.f,7);a.X&&null!=a.B&&(\"gb_Dc\"!=c?(_.Jg(a.B,\"min-width\",\"\"),_.Jg(a.F,\"min-width\",\"\")):(f=_.Qg(a.B).width,g=_.Qg(a.F).width,f=Math.max(f,g),_.Jg(a.B,\"min-width\",f+\"px\"),_.Jg(a.F,\"min-width\",f+\"px\")));d?a.T||(a.T=!0,dj(a,a.T)):(a.T=!1,a.Se());null!=a.A&&(f=\"gb_Vd\"==c,_.U(a.A,\"gb_Me\",!d&&!f),_.U(a.A,\"gb_Le\",d||f));a.b&&(d=a.b.b,_.nh(d,e),_.S(d,c),Ki(a.b)?_.M(\"gb_ae\",void 0).appendChild(d):a.j.appendChild(d),a.b.isVisible(\"menu\")||a.b.isVisible(\"back\"))&&\n(c=!Ki(a.b),d=a.b.Sb(),c&&!d&&a.Ma?a.b.ff():!c&&d&&a.b.close());_.hj(a)},aj=function(a,c){var d=_.M(\"gb_ua\",a.D.C());_.U(d,\"gb_Fa\",!c);a=_.M(\"gb_8d\",a.D.C());null!=a&&_.U(a,\"gb_ke\",!c)},Vi=function(a,c,d){var e=320,f=_.Mc(_.B(a.f,29),0);0<f&&(e=f);f=e+2*Math.max(c,d);c=e+c+d;return f!=c&&a.X?[{id:1,max:c},{id:2,max:f},{id:3}]:[{id:1,max:c},{id:3}]},Ti=function(a,c){if(a=_.M(c?\"gb_re\":\"gb_se\",a.j)){var d=a.offsetWidth;(0,_.Ma)(a.children,function(e){_.R(e,\"gb_Fa\")&&(d-=e.offsetWidth)});return d}return 0},\nij=function(a){return function(){a.click()}},jj=function(a){var c=_.M(\"gb_re\",a.j),d=_.M(\"gb_se\",a.j),e=[];c&&(0,_.Ma)(c.children,function(f){e.push(f)});_.K(_.C(a.f,7),!1)&&(a=_.M(\"gb_Fe\",a.A))&&(a=_.M(\"gb_nf\",a),a.b=!0,e.push(a));d&&(0,_.Ma)(d.children,function(f){e.push(f)});return e};\nW.prototype.ka=function(){if(this.$&&this.w){var a=jj(this),c=!1;a=(0,_.Na)(a,function(g){c=c||_.R(g,\"gb_ue\");return _.R(g,\"gb_Wc\")||_.R(g,\"gb_Ff\")||_.R(g,\"gb_nf\")});var d=this.ab.b.le,e=!1;if(a.length>d||c)e=!0,d--;var f=a.length-d;if(e!=!_.R(this.va,\"gb_Fa\")||f!=this.N.children){_.U(this.va,\"gb_Fa\",!e);if(e)for(;this.N.firstChild;)this.N.removeChild(this.N.firstChild);kj(this,a,d);e?this.V.o(document.body,$i,this.Ja,!0,this):this.V.Ba(document.body,$i,this.Ja,!1,this)}}};\nvar kj=function(a,c,d){c=(0,_.Na)(c,function(g){return _.R(g,\"gb_ue\")?(lj(this,g),!1):!0},a);for(var e=0;e<c.length;e++){var f=c[e];e>=d?lj(a,f):_.T(f,\"gb_Fa\")}},lj=function(a,c){_.S(c,\"gb_Fa\");var d=_.ze(\"LI\");_.mh(d,[\"gb_Be\",\"gb_Lc\",\"gb_Rc\"]);_.Zh(d,!0);_.ph(a.V,d,ij(c));var e=_.ve(\"A\",\"gb_Oc\");d.appendChild(e);var f=_.ve(\"SPAN\",\"gb_Pc\");e.appendChild(f);e=c.b?c.getAttribute(\"aria-label\"):c.title;_.hg(f,e);e=!1;_.R(c,\"gb_Ff\")&&(e=!0);var g,h=c.children[0];e?g=h.children[0].children[0].src:c.b?g=\n\"https://www.gstatic.com/images/icons/material/system/1x/search_black_24dp.png\":g=h.src;a.o=_.ve(\"IMG\");_.mh(a.o,[\"gb_Qc\",\"gb_Ce\"]);a.o.setAttribute(\"src\",g);_.Mh(a.o,f);a.N.appendChild(d)};W.prototype.Ja=function(a){!_.R(this.R,\"gb_Fa\")&&a.target instanceof Node&&(\"keydown\"==a.type?27==a.keyCode&&(a.preventDefault(),a.stopPropagation(),_.S(this.R,\"gb_Fa\"),this.C().focus()):_.gg(this.R,a.target)||(\"touchstart\"==a.type&&(a.preventDefault(),a.stopPropagation()),_.S(this.R,\"gb_Fa\")))};\nW.prototype.lc=function(){Zi(this,this.G.b);this.b&&_.mj(this,this.b.Sb(),!1);this.dispatchEvent(\"ffc\")};_.mj=function(a,c,d){a.b&&(Ki(a.b)&&(d=c=!1),a=document.body,_.U(a,\"gb_pe\",c),_.U(a,\"gb_oe\",d))};W.prototype.nc=function(){_.mj(this,!0,!0)};W.prototype.mc=function(){_.mj(this,!1,!0)};W.prototype.qc=function(){var a=Ki(this.b),c=this.b.b;a?_.M(\"gb_ae\",void 0).appendChild(c):this.j.appendChild(c)};_.gj=function(a){return!!a.b&&_.R(a.F,\"gb_2d\")};\nW.prototype.J=function(a){var c=!1;switch(a){case \"back\":this.O=!0;Mi(this.b);Li(this.b,\"back\");c=!0;break;case \"close\":this.O=!0;Mi(this.b);Li(this.b,\"close\");c=!0;break;case \"default\":this.O=!1;fj(this,this.G.b)||this.jd?(this.b&&!this.b.isVisible(\"menu\")&&(Mi(this.b),Li(this.b,\"menu\")),c=!0):(this.b&&this.b.isVisible(\"back\")&&Mi(this.b),this.b&&this.b.isVisible(\"menu\")?(a=this.b,a.close(),_.S(a.C(),\"gb_Fa\"),Ni(a.w)&&_.T(a.C(),\"gb_wc\")):(a=_.M(\"gb_rc\",this.j))&&_.S(a,\"gb_Fa\"),c=!1);break;case \"none\":this.O=\n!0,Mi(this.b),c=!1}null!=this.B&&_.U(this.B,\"gb_1c\",c)};var fj=function(a,c){var d=\"gb_ta\"==c;c=\"gb_Vd\"==c;var e=_.K(_.C(a.f,5),!1),f=_.K(_.C(a.f,2),!1);return!(_.K(_.C(a.f,10),!1)||a.ua)&&f&&(d||c&&(e||a.S))};W.prototype.getHeight=function(){var a=this.j.offsetHeight;if(this.zc){var c=_.M(\"gb_Id\");c&&(a+=c.offsetHeight)}return a};_.hj=function(a){var c=a.getHeight()+\"px\";a.Sa!=c&&(a.Sa=c,a.Vb&&(a.Vb.style.height=c),a.dispatchEvent(\"resize\"))};W.prototype.md=function(){this.K&&_.hj(this)};\nW.prototype.Ia=function(){if(!this.K){var a=_.ze(\"DIV\");_.mh(a,[\"gb_Zd\",\"gb_6d\"]);nj(a,bj(this));a.style.backgroundColor=this.j.style.backgroundColor;this.Y.push(a);_.sh(a,this.w);this.K=a}return this.K};W.prototype.od=function(){_.Ae(this.K);this.K=null;_.hj(this)};W.prototype.Ub=function(a){2==a&&(a=0);for(var c=0;c<this.Y.length;c++)nj(this.Y[c],a);cj(this,a)};\nvar cj=function(a,c){if(a.D){if(2==c){c=_.L(_.B(a.f,24),\"\");var d=_.L(_.B(a.f,27),\"\")}else 1==c?(c=_.L(_.B(a.f,23),\"\"),d=_.L(_.B(a.f,26),\"\")):(c=_.L(_.B(a.f,22),\"\"),d=_.L(_.B(a.f,25),\"\"));\"\"==c&&\"\"==d||Ph(a.D,c,d)}},bj=function(a){a=a.Y[0];return a.classList.contains(\"gb_sc\")?1:a.classList.contains(\"gb_7d\")?2:0},nj=function(a,c){_.nh(a,[\"gb_7d\",\"gb_sc\"]);1==c?_.S(a,\"gb_sc\"):2==c&&_.S(a,\"gb_7d\")};W.prototype.Fb=function(a){this.j.style.backgroundColor=a};W.prototype.kc=function(){return this.j.style.backgroundColor};\nW.prototype.Z=function(){var a=_.Xc(\"dd\");_.Hh(a)&&_.Hh(a).ne(!1);_.Qh(a,null)};W.prototype.Jd=function(a){Ui(this,a-8-10);ej(this)};var Ui=function(a,c){null==a.A?a.M.log(Error(\"N\")):a.X?a.M.log(Error(\"O\")):a.Kb=0>c?0:c},ej=function(a){null!=a.B&&(\"gb_ta\"==a.G.b?_.Jg(a.B,\"min-width\",\"\"):null!=a.Kb&&_.Jg(a.B,\"min-width\",a.Kb+\"px\"))};W.prototype.Ae=function(a){_.U(_.M(\"gb_lc\",this.w),\"gb_Fa\",!a)};W.prototype.qd=function(a){if(a){var c=_.M(\"gb_4\");null!=c&&_.Jh(c,a);_.sd.ta().b.then(function(d){d.Gg(a)})}};\nvar oj=function(a,c){c.xa=c.type;c.xb=c.target;return a.call(this,c)};\nvar pj;_.Q.prototype.za=_.Sd(function(a,c,d,e,f){return a.call(this,c,_.Sd(oj,d),e,f)},_.Q.prototype.H);_.Q.prototype.zb=_.Q.prototype.vd;var qj=_.M(\"gb_sa\");\nif(null==qj)pj=null;else{var rj=_.H(_.ud,Lh,6)||new Lh,sj=new W(qj,rj,_.yd,_.M(\"gb_Rd\"));_.u(\"gbar.P\",W);W.prototype.pa=W.prototype.getHeight;W.prototype.pb=W.prototype.mk;W.prototype.pc=W.prototype.Ub;W.prototype.pd=W.prototype.Fb;W.prototype.pe=W.prototype.Ia;W.prototype.pf=W.prototype.md;W.prototype.pg=W.prototype.od;W.prototype.ph=W.prototype.Bj;W.prototype.pi=W.prototype.Z;W.prototype.pj=W.prototype.Jd;W.prototype.pk=W.prototype.Ae;W.prototype.pl=W.prototype.qd;W.prototype.pm=W.prototype.J;W.prototype.pn=\nW.prototype.kc;W.prototype.po=W.prototype.lk;W.prototype.pp=W.prototype.Cj;_.rd(_.sd.ta().o,sj);pj=sj}_.tj=pj;\n\n}catch(e){_._DumpException(e)}\ntry{\nvar uj=document.querySelector(\".gb_Pa .gb_D\"),vj=document.querySelector(\"#gb.gb_Ac\");uj&&!vj&&_.Pd(_.Ad,uj,\"click\");\n\n}catch(e){_._DumpException(e)}\ntry{\n(function(){for(var a=document.querySelectorAll(\".gb_nc\"),c=0;c<a.length;c++)_.Pd(_.Ad,a[c],\"click\");_.sd.ta().o.then(function(d){if(d){var e=_.M(\"gb_lc\",d.w);e&&(e=new _.Fh(e,_.yd,_.zd),d.kk(e))}})})();\n\n}catch(e){_._DumpException(e)}\n})(this.gbar_);\n// Google Inc.\n</script> <script type=\"text/javascript\">init();</script> <div ng-non-bindable=\"\"><div class=\"gb_Md\">Google 應用程式</div><div class=\"gb_tc\">主選單</div></div> <script type=\"text/javascript\">this.gbar_=this.gbar_||{};(function(_){var window=this;\ntry{\nif(_.tj){var wj;if(wj=_.B(_.tj.f,3))for(var xj=_.rh(wj),yj=0;yj<xj.length;yj++)_.ci(xj[yj],\"ogpc\",\"\");_.mj(_.tj,!!_.tj.b&&_.tj.b.Sb(),!1)}\n;\n}catch(e){_._DumpException(e)}\ntry{\n_.zj=function(a){_.A(this,a,0,-1,null,null)};_.w(_.zj,_.z);\n\n}catch(e){_._DumpException(e)}\ntry{\nvar Aj=function(a,c,d){_.zd.log(46,{att:a,max:c,url:d})},Cj=function(a,c,d){_.zd.log(47,{att:a,max:c,url:d});a<c?Bj(a+1,c):_.yd.log(Error(\"P`\"+a+\"`\"+c),{url:d})},Bj=function(a,c){if(Dj){var d=_.ze(\"SCRIPT\");d.async=!0;d.type=\"text/javascript\";d.charset=\"UTF-8\";_.je(d,Dj);d.onload=_.Sd(Aj,a,c,d.src);d.onerror=_.Sd(Cj,a,c,d.src);_.zd.log(45,{att:a,max:c,url:d.src});_.qe(\"HEAD\")[0].appendChild(d)}},Ej=function(a){_.A(this,a,0,-1,null,null)};_.w(Ej,_.z);\nvar Fj=_.H(_.ud,Ej,17)||new Ej,Gj,Dj=(Gj=_.H(Fj,_.zj,1))?_.qb(_.B(Gj,4)||\"\"):null,Hj,Ij=(Hj=_.H(Fj,_.zj,2))?_.qb(_.B(Hj,4)||\"\"):null,Jj=function(){Bj(1,2);if(Ij){var a=_.ze(\"LINK\");a.setAttribute(\"type\",\"text/css\");_.ie(a,Ij,\"stylesheet\");_.qe(\"HEAD\")[0].appendChild(a)}};\n(function(){var a=_.vd();if(_.C(a,18))Jj();else{var c=_.B(a,19)||0;window.addEventListener(\"load\",function(){window.setTimeout(Jj,c)})}})();\n\n}catch(e){_._DumpException(e)}\n})(this.gbar_);\n// Google Inc.\n</script>      </body> </html>\n"
    }
   ],
   "source": [
    "import requests \n",
    "import json\n",
    "\n",
    "r = requests.get(\"https://translate.google.com.tw/?hl=zh-TW#view=home&op=translate&sl=en&tl=zh-TW&text=cool\")\n",
    "a = r.text\n",
    "b = json.loads(r.text)\n",
    "print(type(a))\n",
    "print(type(b))"
   ]
  },
  {
   "cell_type": "markdown",
   "metadata": {
    "colab_type": "text",
    "id": "eJwMGD6XUdOn"
   },
   "source": [
    "### 自行尋找一個合適的 API 接口做練習，並且查看其回傳內容\n",
    "\n",
    "* https://cat-fact.herokuapp.com/facts (來源：https://alexwohlbruck.github.io/cat-facts/)\n",
    "* http://odata.wra.gov.tw/v4/RealtimeWaterLevel (來源：https://data.gov.tw/dataset/25768)\n"
   ]
  },
  {
   "cell_type": "code",
   "execution_count": 0,
   "metadata": {
    "colab": {},
    "colab_type": "code",
    "id": "XDvzxwA0UdOn",
    "outputId": "154b29e6-cd0d-48b9-e659-6e9a3f55e274"
   },
   "outputs": [
    {
     "data": {
      "text/plain": [
       "'\\nYour Code\\n'"
      ]
     },
     "execution_count": 2,
     "metadata": {
      "tags": []
     },
     "output_type": "execute_result"
    }
   ],
   "source": [
    "'''\n",
    "Your Code\n",
    "'''"
   ]
  },
  {
   "cell_type": "code",
   "execution_count": 0,
   "metadata": {
    "colab": {},
    "colab_type": "code",
    "id": "RPISC-Y4UdOq"
   },
   "outputs": [],
   "source": []
  },
  {
   "cell_type": "code",
   "execution_count": 0,
   "metadata": {
    "colab": {},
    "colab_type": "code",
    "id": "H5EyeQRIUdOr"
   },
   "outputs": [],
   "source": []
  }
 ],
 "metadata": {
  "colab": {
   "name": "homework.ipynb",
   "provenance": []
  },
  "kernelspec": {
   "display_name": "Python 3",
   "language": "python",
   "name": "python3"
  },
  "language_info": {
   "codemirror_mode": {
    "name": "ipython",
    "version": 3
   },
   "file_extension": ".py",
   "mimetype": "text/x-python",
   "name": "python",
   "nbconvert_exporter": "python",
   "pygments_lexer": "ipython3",
   "version": "3.6.9-final"
  }
 },
 "nbformat": 4,
 "nbformat_minor": 1
}