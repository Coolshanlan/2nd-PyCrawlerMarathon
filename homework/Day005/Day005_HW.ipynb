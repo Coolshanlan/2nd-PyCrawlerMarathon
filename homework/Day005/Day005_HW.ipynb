{
 "cells": [
  {
   "cell_type": "markdown",
   "metadata": {},
   "source": [
    "# API 資料串接 - 以 Dcard API 實作範例\n",
    "\n",
    "* 了解 Dcard API 使用方式與回傳內容\n",
    "* 撰寫程式存取 API 且解析 JSON 格式資料\n"
   ]
  },
  {
   "cell_type": "markdown",
   "metadata": {},
   "source": [
    "## 作業目標\n",
    "\n",
    "* 請利用 API: https://www.dcard.tw/_api/forums/pet/posts?popular=true 回答下列問題：\n",
    "\n",
    "1. 這個 API 一次會回傳幾筆資料？每一筆資料包含哪些欄位？\n",
    "2. 取出每一筆資料的「標題」、「貼文時間」、「留言人數」、「按讚人數」\n",
    "3. 計算熱門/非熱門文章的「平均留言人數」與「平均按讚人數」"
   ]
  },
  {
   "cell_type": "code",
   "execution_count": 5,
   "metadata": {},
   "outputs": [
    {
     "name": "stdout",
     "output_type": "stream",
     "text": "30\ndict_keys(['id', 'title', 'excerpt', 'anonymousSchool', 'anonymousDepartment', 'pinned', 'forumId', 'replyId', 'createdAt', 'updatedAt', 'commentCount', 'likeCount', 'withNickname', 'tags', 'topics', 'meta', 'forumName', 'forumAlias', 'gender', 'school', 'replyTitle', 'mediaMeta', 'reactions', 'hidden', 'customStyle', 'isSuspiciousAccount', 'layout', 'withImages', 'withVideos', 'media', 'reportReasonText', 'postAvatar'])\n"
    }
   ],
   "source": [
    "# 1. 這個 API 一次會回傳幾筆資料？每一筆資料包含哪些欄位？\n",
    "import requests\n",
    "import json\n",
    "rp = requests.get(\"https://www.dcard.tw/_api/forums/pet/posts?popular=true\")\n",
    "rpj = json.loads(rp.text)\n",
    "print(len(rpj))\n",
    "print(rpj[0].keys())"
   ]
  },
  {
   "cell_type": "code",
   "execution_count": 25,
   "metadata": {},
   "outputs": [
    {
     "name": "stdout",
     "output_type": "stream",
     "text": "限時的貓咪\t2020-02-29T17:45:21.289Z\t4\t58\n曬一下新來的小可愛😊\t2020-02-29T18:36:31.491Z\t5\t42\n我的貓是什麼品種？\t2020-03-01T11:15:38.320Z\t7\t41\n一秒變神奇寶貝狃拉\t2020-03-01T15:08:55.199Z\t1\t39\n三重 協尋貓咪\n請大家幫忙留意~謝謝 QAQ\t2020-03-01T01:23:57.748Z\t1\t34\n曬個法鬥\t2020-03-01T11:49:19.897Z\t3\t25\n寵物電繪🐶🐱（更 交差第一張\t2020-02-29T15:53:52.068Z\t53\t25\n我說睡就睡\t2020-03-01T16:45:23.608Z\t2\t24\n黃金瑞比崩壞系列\t2020-03-01T08:42:58.993Z\t2\t23\n#圖#貓 三年後妳的樣子\t2020-03-01T08:33:55.003Z\t1\t23\n🐹🐹想你\t2020-03-01T06:20:58.390Z\t0\t22\n你太可愛了喔(⁎⁍̴̛ᴗ⁍̴̛⁎)\t2020-03-01T05:24:26.503Z\t5\t19\n曬照片٩(｡・ω・｡)﻿و\t2020-02-29T15:53:09.766Z\t0\t19\n⚠️急尋貓\t2020-03-01T12:21:16.288Z\t0\t17\n士在哈嘍！\t2020-03-01T21:07:31.469Z\t2\t15\n你認真的表情讓我害怕\t2020-03-01T05:58:55.903Z\t2\t15\n#法鬥#狗 如何幫你家狗打扮呢？\t2020-02-29T15:20:01.741Z\t0\t15\n台中太平洋鸚鵡飛失\t2020-03-01T11:11:54.026Z\t1\t14\n問 貓咪突然親近的原因\t2020-02-29T19:09:13.044Z\t2\t14\n領養第三天\t2020-02-29T15:30:49.969Z\t5\t13\n在動物醫院工作的小確幸\t2020-03-01T11:40:24.081Z\t5\t12\n喵睡姿\t2020-03-01T12:04:06.947Z\t2\t11\n我家的貓真的覺得自己是女王^_^\t2020-03-01T10:53:27.848Z\t3\t11\n另一種方式曬貓♥️\t2020-03-01T14:40:27.782Z\t1\t10\n撞死小貓無良肇事者、怕輿論的警員、小貓飼主反被罰\t2020-03-01T16:13:24.677Z\t3\t9\n我要通緝妳的狗🚓\t2020-03-02T01:35:29.456Z\t0\t8\n協尋 虎皮鸚鵡\t2020-03-01T03:51:21.462Z\t0\t8\n男朋友加班，感到生無可戀的貓\t2020-03-01T17:24:38.496Z\t1\t7\n養了狗以後。爸媽的轉變😱\t2020-03-01T13:45:55.493Z\t2\t7\n我是北藤\t2020-03-01T11:00:51.616Z\t1\t7\n"
    }
   ],
   "source": [
    "# 2. 取出每一筆資料的「標題」、「貼文時間」、「留言人數」、「按讚人數」\n",
    "\n",
    "for d in rpj:\n",
    "    print(d[\"title\"]+\"\\t\"+d[\"createdAt\"]+\"\\t\"+str(d[\"commentCount\"])+\"\\t\"+str(d[\"likeCount\"]))\n"
   ]
  },
  {
   "cell_type": "code",
   "execution_count": 32,
   "metadata": {},
   "outputs": [
    {
     "name": "stdout",
     "output_type": "stream",
     "text": "Avg Comment:3.1333333333333333\nAvg Like:13.7\n"
    }
   ],
   "source": [
    "# 3. 計算熱門/非熱門文章的「平均留言人數」與「平均按讚人數」\n",
    "\n",
    "r = requests.get(\"https://www.dcard.tw/_api/forums/pet/posts?popular=false\")\n",
    "rj = json.loads(r.text)\n",
    "all_c = [d[\"commentCount\"] for d in rpj]\n",
    "all_c.extend([d[\"commentCount\"] for d in rj])\n",
    "avg_c = sum(all_c)/len(all_c)\n",
    "all_l = [d[\"likeCount\"] for d in rpj]\n",
    "all_l.extend([d[\"likeCount\"] for d in rj])\n",
    "avg_l = sum(all_l)/len(all_l)\n",
    "print(f\"Avg Comment:{avg_c}\")\n",
    "print(f\"Avg Like:{avg_l}\")"
   ]
  },
  {
   "cell_type": "code",
   "execution_count": null,
   "metadata": {},
   "outputs": [],
   "source": []
  },
  {
   "cell_type": "code",
   "execution_count": null,
   "metadata": {},
   "outputs": [],
   "source": []
  }
 ],
 "metadata": {
  "kernelspec": {
   "display_name": "Python 3",
   "language": "python",
   "name": "python3"
  },
  "language_info": {
   "codemirror_mode": {
    "name": "ipython",
    "version": 3
   },
   "file_extension": ".py",
   "mimetype": "text/x-python",
   "name": "python",
   "nbconvert_exporter": "python",
   "pygments_lexer": "ipython3",
   "version": "3.6.9-final"
  }
 },
 "nbformat": 4,
 "nbformat_minor": 2
}